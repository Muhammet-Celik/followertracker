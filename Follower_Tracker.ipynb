{
 "cells": [
  {
   "cell_type": "code",
   "execution_count": 1,
   "metadata": {},
   "outputs": [],
   "source": [
    "from util import followertracker"
   ]
  },
  {
   "cell_type": "markdown",
   "metadata": {},
   "source": [
    "# Accounts to Track"
   ]
  },
  {
   "cell_type": "code",
   "execution_count": 2,
   "metadata": {},
   "outputs": [],
   "source": [
    "# You can change usernames as you wish or leave it None\n",
    "twitter_username = \"deeplearningtr\"\n",
    "instagram_username = \"deeplearningtr\"\n",
    "meetup_username = \"Deep-Learning-Turkiye\""
   ]
  },
  {
   "cell_type": "markdown",
   "metadata": {},
   "source": [
    "# How many followers on Twitter, Instagram and Meetup?"
   ]
  },
  {
   "cell_type": "code",
   "execution_count": 3,
   "metadata": {},
   "outputs": [
    {
     "name": "stdout",
     "output_type": "stream",
     "text": [
      "Twitter Followers:  21142\n",
      "Instagram Followers:  4803\n",
      "Meetup Followers:  3722\n"
     ]
    }
   ],
   "source": [
    "tracker = followertracker(twitter_username, instagram_username, meetup_username)\n",
    "\n",
    "print(\"Twitter Followers: \",tracker.twitter())\n",
    "print(\"Instagram Followers: \",tracker.instagram())\n",
    "print(\"Meetup Followers: \",tracker.meetup())"
   ]
  }
 ],
 "metadata": {
  "kernelspec": {
   "display_name": "Python 3",
   "language": "python",
   "name": "python3"
  },
  "language_info": {
   "codemirror_mode": {
    "name": "ipython",
    "version": 3
   },
   "file_extension": ".py",
   "mimetype": "text/x-python",
   "name": "python",
   "nbconvert_exporter": "python",
   "pygments_lexer": "ipython3",
   "version": "3.5.5"
  }
 },
 "nbformat": 4,
 "nbformat_minor": 2
}
